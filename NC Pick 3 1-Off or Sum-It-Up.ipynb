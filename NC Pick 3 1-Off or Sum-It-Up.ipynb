{
 "cells": [
  {
   "cell_type": "markdown",
   "metadata": {},
   "source": [
    "# North Carolina's Pick 3 Lottery: 1-Off or Sum-It-Up?\n",
    "\n",
    "Almost every state offers a Pick 3 lottery game where three integers between 0 and 9, inclusive, are drawn consecutively.  A player can win in various ways such as choosing a three-digit number that is in the exact order or any order of the number drawn.  Pick 3's two newest games are *1-Off* and *Sum-It-Up* with more information on how to play on the [North Carolina Lottery website](https://www.nclottery.com/Pick3How).  The unique objective for winning both games is to **not** have the same digits as the number drawn.  In this project, we will use [Pick 3 Past Draws](https://www.nclottery.com/Pick3Past) data that covers almost the entire timeline of the Pick 3 lottery (Jun. 2007 - Jun. 2019) in CSV format and a list of randomly picked numbers to answer the following questions:\n",
    "\n",
    "- Do the actual number of wins for the 1-Off and Sum-It-Up games outweigh the expected number of wins?\n",
    "- Which month produces the most wins for each game?\n",
    "- What is the average monthly gain or loss for each game?\n",
    "- Which game is statistically more promising to win for someone who plays both drawings daily?\n",
    "- What are some of the possible benefits of a player knowning the top 5 most drawn numbers **and** sums of the Pick 3 Lottery's lifetime?\n",
    "\n",
    "\n",
    "## Introduction\n",
    "\n",
    "Firstly, we need to read in the dataset and explore the columns to become familiar. "
   ]
  },
  {
   "cell_type": "code",
   "execution_count": 1,
   "metadata": {
    "scrolled": true
   },
   "outputs": [
    {
     "name": "stdout",
     "output_type": "stream",
     "text": [
      "<class 'pandas.core.frame.DataFrame'>\n",
      "RangeIndex: 8597 entries, 0 to 8596\n",
      "Data columns (total 7 columns):\n",
      "Date           8597 non-null object\n",
      "Day/Eve        8596 non-null object\n",
      "Number 1       8596 non-null float64\n",
      "Number 2       8596 non-null float64\n",
      "Number 3       8596 non-null float64\n",
      "GreenBall      144 non-null object\n",
      "DoubleDraw*    150 non-null object\n",
      "dtypes: float64(3), object(4)\n",
      "memory usage: 470.2+ KB\n"
     ]
    }
   ],
   "source": [
    "# Import packages to read in and explore the data\n",
    "import pandas as pd\n",
    "import datetime\n",
    "import numpy as np\n",
    "\n",
    "pick_3 = pd.read_csv('NCELPick3.csv')\n",
    "\n",
    "pick_3.info()\n"
   ]
  },
  {
   "cell_type": "markdown",
   "metadata": {},
   "source": [
    "## Removing Irrelevant Rows and Columns\n",
    "\n",
    "Since we are only focusing on the 1-Off and Sum-It-Up games, the *GreenBall* and *DoubleDraw* colums can be removed."
   ]
  },
  {
   "cell_type": "code",
   "execution_count": 2,
   "metadata": {
    "scrolled": true
   },
   "outputs": [
    {
     "data": {
      "text/html": [
       "<div>\n",
       "<style scoped>\n",
       "    .dataframe tbody tr th:only-of-type {\n",
       "        vertical-align: middle;\n",
       "    }\n",
       "\n",
       "    .dataframe tbody tr th {\n",
       "        vertical-align: top;\n",
       "    }\n",
       "\n",
       "    .dataframe thead th {\n",
       "        text-align: right;\n",
       "    }\n",
       "</style>\n",
       "<table border=\"1\" class=\"dataframe\">\n",
       "  <thead>\n",
       "    <tr style=\"text-align: right;\">\n",
       "      <th></th>\n",
       "      <th>Date</th>\n",
       "      <th>Day/Eve</th>\n",
       "      <th>Number 1</th>\n",
       "      <th>Number 2</th>\n",
       "      <th>Number 3</th>\n",
       "    </tr>\n",
       "  </thead>\n",
       "  <tbody>\n",
       "    <tr>\n",
       "      <th>0</th>\n",
       "      <td>06/08/2019</td>\n",
       "      <td>D</td>\n",
       "      <td>1.0</td>\n",
       "      <td>7.0</td>\n",
       "      <td>5.0</td>\n",
       "    </tr>\n",
       "    <tr>\n",
       "      <th>1</th>\n",
       "      <td>06/07/2019</td>\n",
       "      <td>D</td>\n",
       "      <td>0.0</td>\n",
       "      <td>3.0</td>\n",
       "      <td>8.0</td>\n",
       "    </tr>\n",
       "    <tr>\n",
       "      <th>2</th>\n",
       "      <td>06/07/2019</td>\n",
       "      <td>E</td>\n",
       "      <td>7.0</td>\n",
       "      <td>9.0</td>\n",
       "      <td>8.0</td>\n",
       "    </tr>\n",
       "    <tr>\n",
       "      <th>3</th>\n",
       "      <td>06/06/2019</td>\n",
       "      <td>D</td>\n",
       "      <td>4.0</td>\n",
       "      <td>9.0</td>\n",
       "      <td>9.0</td>\n",
       "    </tr>\n",
       "    <tr>\n",
       "      <th>4</th>\n",
       "      <td>06/06/2019</td>\n",
       "      <td>E</td>\n",
       "      <td>4.0</td>\n",
       "      <td>3.0</td>\n",
       "      <td>3.0</td>\n",
       "    </tr>\n",
       "    <tr>\n",
       "      <th>5</th>\n",
       "      <td>06/05/2019</td>\n",
       "      <td>D</td>\n",
       "      <td>6.0</td>\n",
       "      <td>0.0</td>\n",
       "      <td>2.0</td>\n",
       "    </tr>\n",
       "    <tr>\n",
       "      <th>6</th>\n",
       "      <td>06/05/2019</td>\n",
       "      <td>E</td>\n",
       "      <td>2.0</td>\n",
       "      <td>2.0</td>\n",
       "      <td>6.0</td>\n",
       "    </tr>\n",
       "    <tr>\n",
       "      <th>7</th>\n",
       "      <td>06/04/2019</td>\n",
       "      <td>D</td>\n",
       "      <td>7.0</td>\n",
       "      <td>4.0</td>\n",
       "      <td>5.0</td>\n",
       "    </tr>\n",
       "    <tr>\n",
       "      <th>8</th>\n",
       "      <td>06/04/2019</td>\n",
       "      <td>E</td>\n",
       "      <td>1.0</td>\n",
       "      <td>7.0</td>\n",
       "      <td>2.0</td>\n",
       "    </tr>\n",
       "    <tr>\n",
       "      <th>9</th>\n",
       "      <td>06/03/2019</td>\n",
       "      <td>D</td>\n",
       "      <td>1.0</td>\n",
       "      <td>8.0</td>\n",
       "      <td>8.0</td>\n",
       "    </tr>\n",
       "    <tr>\n",
       "      <th>10</th>\n",
       "      <td>06/03/2019</td>\n",
       "      <td>E</td>\n",
       "      <td>0.0</td>\n",
       "      <td>3.0</td>\n",
       "      <td>3.0</td>\n",
       "    </tr>\n",
       "    <tr>\n",
       "      <th>11</th>\n",
       "      <td>06/02/2019</td>\n",
       "      <td>D</td>\n",
       "      <td>3.0</td>\n",
       "      <td>8.0</td>\n",
       "      <td>4.0</td>\n",
       "    </tr>\n",
       "    <tr>\n",
       "      <th>12</th>\n",
       "      <td>06/02/2019</td>\n",
       "      <td>E</td>\n",
       "      <td>2.0</td>\n",
       "      <td>5.0</td>\n",
       "      <td>1.0</td>\n",
       "    </tr>\n",
       "    <tr>\n",
       "      <th>13</th>\n",
       "      <td>06/01/2019</td>\n",
       "      <td>D</td>\n",
       "      <td>7.0</td>\n",
       "      <td>0.0</td>\n",
       "      <td>5.0</td>\n",
       "    </tr>\n",
       "    <tr>\n",
       "      <th>14</th>\n",
       "      <td>06/01/2019</td>\n",
       "      <td>E</td>\n",
       "      <td>1.0</td>\n",
       "      <td>2.0</td>\n",
       "      <td>6.0</td>\n",
       "    </tr>\n",
       "  </tbody>\n",
       "</table>\n",
       "</div>"
      ],
      "text/plain": [
       "          Date Day/Eve  Number 1  Number 2  Number 3\n",
       "0   06/08/2019       D       1.0       7.0       5.0\n",
       "1   06/07/2019       D       0.0       3.0       8.0\n",
       "2   06/07/2019       E       7.0       9.0       8.0\n",
       "3   06/06/2019       D       4.0       9.0       9.0\n",
       "4   06/06/2019       E       4.0       3.0       3.0\n",
       "5   06/05/2019       D       6.0       0.0       2.0\n",
       "6   06/05/2019       E       2.0       2.0       6.0\n",
       "7   06/04/2019       D       7.0       4.0       5.0\n",
       "8   06/04/2019       E       1.0       7.0       2.0\n",
       "9   06/03/2019       D       1.0       8.0       8.0\n",
       "10  06/03/2019       E       0.0       3.0       3.0\n",
       "11  06/02/2019       D       3.0       8.0       4.0\n",
       "12  06/02/2019       E       2.0       5.0       1.0\n",
       "13  06/01/2019       D       7.0       0.0       5.0\n",
       "14  06/01/2019       E       1.0       2.0       6.0"
      ]
     },
     "execution_count": 2,
     "metadata": {},
     "output_type": "execute_result"
    }
   ],
   "source": [
    "# Use slicing to rename dataset, removing the last two columns\n",
    "pick_3 = pick_3.loc[:,'Date':'Number 3']\n",
    "\n",
    "pick_3.head(15) # Displays first 15 rows"
   ]
  },
  {
   "cell_type": "markdown",
   "metadata": {},
   "source": [
    "After observing the first few rows, it is clear that each day is represented by day and evening drawings.  The focus of the project is on approximately the last 12 years shortly after Pick 3 Lottery began.  We need to cover June 6, 2007 to June 6, 2019.  Let's print the index of these rows and slice the data appropriately."
   ]
  },
  {
   "cell_type": "code",
   "execution_count": 3,
   "metadata": {
    "scrolled": true
   },
   "outputs": [
    {
     "name": "stdout",
     "output_type": "stream",
     "text": [
      "Int64Index([3, 4], dtype='int64')\n",
      "\n",
      "\n",
      "Int64Index([8352], dtype='int64')\n"
     ]
    }
   ],
   "source": [
    "print(pick_3.loc[pick_3['Date']=='06/06/2019'].index)\n",
    "print('\\n')\n",
    "print(pick_3.loc[pick_3['Date']=='06/06/2007'].index)"
   ]
  },
  {
   "cell_type": "code",
   "execution_count": 4,
   "metadata": {},
   "outputs": [
    {
     "name": "stdout",
     "output_type": "stream",
     "text": [
      "<class 'pandas.core.frame.DataFrame'>\n",
      "RangeIndex: 8350 entries, 3 to 8352\n",
      "Data columns (total 5 columns):\n",
      "Date        8350 non-null object\n",
      "Day/Eve     8350 non-null object\n",
      "Number 1    8350 non-null float64\n",
      "Number 2    8350 non-null float64\n",
      "Number 3    8350 non-null float64\n",
      "dtypes: float64(3), object(2)\n",
      "memory usage: 326.3+ KB\n",
      "None\n",
      "\n",
      "\n",
      "Date        06/06/2019\n",
      "Day/Eve              D\n",
      "Number 1             4\n",
      "Number 2             9\n",
      "Number 3             9\n",
      "Name: 3, dtype: object\n",
      "\n",
      "\n",
      "Date        06/06/2007\n",
      "Day/Eve              E\n",
      "Number 1             4\n",
      "Number 2             7\n",
      "Number 3             1\n",
      "Name: 8352, dtype: object\n"
     ]
    }
   ],
   "source": [
    "# Assign slice representing decade back to dataset\n",
    "\n",
    "pick_3 = pick_3.loc[3:8352]\n",
    "\n",
    "# Verify columns and that data covers Jun. 6, 2006 to Jun. 6, 2019\n",
    "print(pick_3.info())\n",
    "print('\\n')\n",
    "print(pick_3.iloc[0]) # Prints first row\n",
    "print('\\n')\n",
    "print(pick_3.iloc[-1]) # Prints last row\n"
   ]
  },
  {
   "cell_type": "markdown",
   "metadata": {},
   "source": [
    "## Renaming, Converting, and Creating Columns\n",
    "\n",
    "Now that our data covers a span of 12 years, we need to proceed with the following steps:\n",
    "\n",
    "1. Rename columns for simplicity.\n",
    "2. Convert Date column to a datetime object.\n",
    "3. Create a column of the Pick 3 draws as strings"
   ]
  },
  {
   "cell_type": "code",
   "execution_count": 5,
   "metadata": {
    "scrolled": true
   },
   "outputs": [
    {
     "name": "stdout",
     "output_type": "stream",
     "text": [
      "<class 'pandas.core.frame.DataFrame'>\n",
      "RangeIndex: 8350 entries, 3 to 8352\n",
      "Data columns (total 5 columns):\n",
      "Date        8350 non-null object\n",
      "Day/Eve     8350 non-null object\n",
      "Number 1    8350 non-null float64\n",
      "Number 2    8350 non-null float64\n",
      "Number 3    8350 non-null float64\n",
      "dtypes: float64(3), object(2)\n",
      "memory usage: 326.3+ KB\n",
      "<class 'pandas.core.frame.DataFrame'>\n",
      "RangeIndex: 8350 entries, 3 to 8352\n",
      "Data columns (total 5 columns):\n",
      "date       8350 non-null object\n",
      "day_eve    8350 non-null object\n",
      "num_1      8350 non-null float64\n",
      "num_2      8350 non-null float64\n",
      "num_3      8350 non-null float64\n",
      "dtypes: float64(3), object(2)\n",
      "memory usage: 326.3+ KB\n"
     ]
    }
   ],
   "source": [
    "pick_3.info()\n",
    "new_cols = {'Date':'date', 'Day/Eve':'day_eve', 'Number 1':'num_1', 'Number 2':'num_2', 'Number 3':'num_3'}\n",
    "pick_3.rename(columns=new_cols, inplace=True)\n",
    "pick_3.info()"
   ]
  },
  {
   "cell_type": "markdown",
   "metadata": {},
   "source": [
    "All columns have now been revised and there are no null values for any column.  The **date** column is still assigned as an object type and must be converted to a datetime object.  \n"
   ]
  },
  {
   "cell_type": "code",
   "execution_count": 6,
   "metadata": {
    "scrolled": true
   },
   "outputs": [
    {
     "name": "stdout",
     "output_type": "stream",
     "text": [
      "date       datetime64[ns]\n",
      "day_eve            object\n",
      "num_1             float64\n",
      "num_2             float64\n",
      "num_3             float64\n",
      "dtype: object\n",
      "\n",
      "\n",
      "        date day_eve  num_1  num_2  num_3\n",
      "3 2019-06-06       D    4.0    9.0    9.0\n",
      "4 2019-06-06       E    4.0    3.0    3.0\n",
      "5 2019-06-05       D    6.0    0.0    2.0\n",
      "6 2019-06-05       E    2.0    2.0    6.0\n",
      "7 2019-06-04       D    7.0    4.0    5.0\n"
     ]
    }
   ],
   "source": [
    "pick_3['date'] = pd.to_datetime(pick_3['date'])\n",
    "print(pick_3.dtypes) # Verify that column has been converted to datetime\n",
    "print('\\n')\n",
    "print(pick_3.head())"
   ]
  },
  {
   "cell_type": "markdown",
   "metadata": {},
   "source": [
    "The date column is in the proper format for analysis later in the project.  Since each digit drawn is in separte columns, it would be more efficient to display them as one number as a string.  Strings are the best way to represent each Pick 3 number simply because floats and integers do not easily support leading zeros. For all rows whose **num_1** and **num_2** columns contains a 0.0, this method is very beneficial.  Additionally, we need to modify the dataframe so that we only include the numbers drawn as one column instead of three."
   ]
  },
  {
   "cell_type": "code",
   "execution_count": 7,
   "metadata": {},
   "outputs": [
    {
     "name": "stdout",
     "output_type": "stream",
     "text": [
      "\n",
      "\n",
      "         date day_eve  num_1  num_2  num_3 num_drawn\n",
      "10 2019-06-03       E    0.0    3.0    3.0        33\n",
      "27 2019-05-25       D    0.0    2.0    2.0        22\n",
      "34 2019-05-22       E    0.0    0.0    1.0         1\n",
      "36 2019-05-21       E    0.0    0.0    9.0         9\n",
      "37 2019-05-20       D    0.0    0.0    4.0         4\n",
      "\n",
      "\n",
      "         date day_eve  num_1  num_2  num_3 num_drawn\n",
      "5  2019-06-05       D    6.0    0.0    2.0       602\n",
      "13 2019-06-01       D    7.0    0.0    5.0       705\n",
      "24 2019-05-27       E    4.0    0.0    3.0       403\n",
      "34 2019-05-22       E    0.0    0.0    1.0         1\n",
      "36 2019-05-21       E    0.0    0.0    9.0         9\n",
      "         date day_eve  num_1  num_2  num_3 num_drawn\n",
      "10 2019-06-03       E    0.0    3.0    3.0       033\n",
      "27 2019-05-25       D    0.0    2.0    2.0       022\n",
      "34 2019-05-22       E    0.0    0.0    1.0       001\n",
      "36 2019-05-21       E    0.0    0.0    9.0       009\n",
      "37 2019-05-20       D    0.0    0.0    4.0       004\n",
      "\n",
      "\n",
      "         date day_eve  num_1  num_2  num_3 num_drawn\n",
      "5  2019-06-05       D    6.0    0.0    2.0       602\n",
      "13 2019-06-01       D    7.0    0.0    5.0       705\n",
      "24 2019-05-27       E    4.0    0.0    3.0       403\n",
      "34 2019-05-22       E    0.0    0.0    1.0       001\n",
      "36 2019-05-21       E    0.0    0.0    9.0       009\n",
      "\n",
      "\n",
      "<class 'pandas.core.frame.DataFrame'>\n",
      "RangeIndex: 8350 entries, 3 to 8352\n",
      "Data columns (total 3 columns):\n",
      "date         8350 non-null datetime64[ns]\n",
      "day_eve      8350 non-null object\n",
      "num_drawn    8350 non-null object\n",
      "dtypes: datetime64[ns](1), object(2)\n",
      "memory usage: 195.8+ KB\n",
      "None\n"
     ]
    }
   ],
   "source": [
    "# Combine the three columns to create a 3-digit string\n",
    "pick_3['num_drawn'] = 100*pick_3['num_1'].astype(int) + 10*pick_3['num_2'].astype(int) + pick_3['num_3'].astype(int)\n",
    "pick_3['num_drawn'] = pick_3['num_drawn'].astype(str)\n",
    "pick_3.head()\n",
    "print('\\n')\n",
    "print(pick_3[pick_3['num_1']==0.0].head())\n",
    "print('\\n')\n",
    "print(pick_3[pick_3['num_2']==0.0].head())\n",
    "# Use zfill method to convert include leading zeros\n",
    "\n",
    "pick_3['num_drawn'] = pick_3['num_drawn'].str.zfill(3)\n",
    "print(pick_3[pick_3['num_1']==0.0].head())\n",
    "print('\\n')\n",
    "print(pick_3[pick_3['num_2']==0.0].head())\n",
    "pick_3 = pick_3[['date', 'day_eve' ,'num_drawn']] # Slice dataframe and reassign\n",
    "print('\\n')\n",
    "print(pick_3.info())"
   ]
  },
  {
   "cell_type": "markdown",
   "metadata": {},
   "source": [
    "## Creating Randomly Chosen Picks\n",
    "\n",
    "A player can select the \"Quick Pick\" option if he or she wishes for the lottery ticket processor to randomly generate a Pick 3 number.  We will create a function that mimics this process and adds a column of the player's \"Quick Pick\" numbers for each drawing. "
   ]
  },
  {
   "cell_type": "code",
   "execution_count": 8,
   "metadata": {},
   "outputs": [
    {
     "name": "stdout",
     "output_type": "stream",
     "text": [
      "<class 'pandas.core.frame.DataFrame'>\n",
      "RangeIndex: 8350 entries, 3 to 8352\n",
      "Data columns (total 4 columns):\n",
      "date           8350 non-null datetime64[ns]\n",
      "day_eve        8350 non-null object\n",
      "num_drawn      8350 non-null object\n",
      "quick_picks    8350 non-null object\n",
      "dtypes: datetime64[ns](1), object(3)\n",
      "memory usage: 261.0+ KB\n",
      "None\n",
      "\n",
      "\n",
      "        date day_eve num_drawn quick_picks\n",
      "3 2019-06-06       D       499         620\n",
      "4 2019-06-06       E       433         138\n",
      "5 2019-06-05       D       602         818\n",
      "6 2019-06-05       E       226         374\n",
      "7 2019-06-04       D       745         146\n",
      "\n",
      "\n",
      "           date day_eve num_drawn quick_picks\n",
      "8348 2007-06-10       E       134         859\n",
      "8349 2007-06-09       E       385         696\n",
      "8350 2007-06-08       E       549         837\n",
      "8351 2007-06-07       E       292         202\n",
      "8352 2007-06-06       E       471         009\n"
     ]
    }
   ],
   "source": [
    "def quick_pick(start, end, num):\n",
    "    \"\"\"Creates list of randomly selected integers and converts to strings\"\"\"\n",
    "    import random\n",
    "    picks = []\n",
    "    \n",
    "    for n in range(num):\n",
    "        picks.append(str(random.randint(start,end)).zfill(3))\n",
    "        \n",
    "    return picks\n",
    "\n",
    "g = quick_pick(0,999,8350)\n",
    "\n",
    "pick_3 = pick_3.assign(quick_picks = g) # Add column to dataframe\n",
    "\n",
    "print(pick_3.info())\n",
    "print('\\n')\n",
    "print(pick_3.head())\n",
    "print('\\n')\n",
    "print(pick_3.tail())"
   ]
  },
  {
   "cell_type": "markdown",
   "metadata": {},
   "source": [
    "You'll notice the last 5 rows consist of only evening drawings.  This is due to the fact that day drawings were not introduced until approximately the year 2008."
   ]
  },
  {
   "cell_type": "markdown",
   "metadata": {},
   "source": [
    "## Displaying Results of the Pick 3\n",
    "\n",
    "### 1-Off Game\n",
    "\n",
    "We have a randomly picked number matching each drawing of the last decade and need to find a way to produce the result based on the rules of the 1-Off game.  The game requires that the corresponding digits for the player's number contain one number, two numbers, or all three numbers have an increase or decrease of 1.  For instance, if 123 is chosen for the evening drawing, a player can win by choosing 234 simply because all three digits were increased by 1 *in order*.  It is important to understand that 342 would not suffice as a winner because the first corresponding digits differ by 2, as well as the second digits. \n",
    "\n",
    "We can build a function that converts a string of numbers to a list of integers and a for loop that detects these differences in corresponding digits, respectively.  However, we hit a road block when it comes to the digits 0 and 9.  If we decrease 0 by 1, there is no way to represent -1 within a three-digit number.  Similarly, we cannot increase 9 by 1 because 10 cannot be presented without carrying over to the next place of digits.  Thankfully, the rules of the game ensure that decreasing 0 results to 9 and increasing 9 implies a 0.  Our function should perform the following actions:\n",
    "\n",
    "- Convert each row of drawings and Quick Picks to lists of integers as the digits in order\n",
    "- Compare the difference of each corresponding digit to a list of winning differences, including the special cases for 0 and 9\n",
    "- Create a column displaying results for each row comparison\n"
   ]
  },
  {
   "cell_type": "code",
   "execution_count": 9,
   "metadata": {},
   "outputs": [
    {
     "name": "stdout",
     "output_type": "stream",
     "text": [
      "          date day_eve num_drawn quick_picks one_off\n",
      "51  2019-05-13       D       616         505       W\n",
      "146 2019-03-27       E       465         565       W\n",
      "150 2019-03-25       E       431         341       W\n",
      "228 2019-02-16       E       436         335       W\n",
      "241 2019-02-10       E       682         593       W\n",
      "\n",
      "\n",
      "        date day_eve num_drawn quick_picks one_off\n",
      "3 2019-06-06       D       499         620       L\n",
      "4 2019-06-06       E       433         138       L\n",
      "5 2019-06-05       D       602         818       L\n",
      "6 2019-06-05       E       226         374       L\n",
      "7 2019-06-04       D       745         146       L\n"
     ]
    }
   ],
   "source": [
    "def str_convert(s):\n",
    "    \"\"\"This function converts string of numbers to list of integers.\"\"\"\n",
    "    \n",
    "    return [int(s[0]), int(s[1]), int(s[2])]\n",
    "\n",
    "f = lambda x: str_convert(x) \n",
    "\n",
    "one_off = []\n",
    "for index, row in pick_3[[\"num_drawn\",\"quick_picks\"]].iterrows():\n",
    "    # List of lists for winning differences, includes 0 and 9 exceptions for any corresponding digits \n",
    "    win_list = [[0,0,1], [0,1,1], [1,1,1], [0,0,9], [0,9,9], [0,1,9], [1,1,9], [1,9,9], [9,9,9]]\n",
    "    \n",
    "    win_num, qp_num = f(row['num_drawn']), f(row['quick_picks'])\n",
    "    dig_diff = sorted([abs(win_num[0]-qp_num[0]), abs(win_num[1]-qp_num[1]), abs(win_num[2]-qp_num[2])])\n",
    "    \n",
    "    if dig_diff in win_list:\n",
    "        one_off.append('W')\n",
    "    \n",
    "    else:\n",
    "        one_off.append('L')\n",
    "    \n",
    "pick_3 = pick_3.assign(one_off = one_off)\n",
    "\n",
    "# Print first 5 winning and losing rows\n",
    "print(pick_3[pick_3['one_off']=='W'].head())\n",
    "print('\\n')\n",
    "print(pick_3[pick_3['one_off']=='L'].head())"
   ]
  },
  {
   "cell_type": "markdown",
   "metadata": {},
   "source": [
    "## Expected Number of Wins For 1-Off Game\n",
    "\n",
    "Now that we've developed the tools to detect winners based on a player's Quick Pick for each drawing, we need to compare the number of **expected** wins to the number of **actual** wins.  The odds of winning the 1-Off game is 1 in 26. The formulas for expected and actual wins are:\n",
    "\n",
    "- expected wins = (1/26) * (number of games played)\n",
    "- actual wins = number of wins detected\n",
    "\n"
   ]
  },
  {
   "cell_type": "code",
   "execution_count": 10,
   "metadata": {},
   "outputs": [
    {
     "name": "stdout",
     "output_type": "stream",
     "text": [
      "The expected number of wins: 321\n",
      "\n",
      "\n",
      "The actual number of wins: 229\n"
     ]
    }
   ],
   "source": [
    "exp_wins = (1/26)*(len(pick_3))\n",
    "act_wins = len(pick_3[pick_3['one_off']=='W'])\n",
    "\n",
    "print(\"The expected number of wins: {}\".format(int(exp_wins)))       \n",
    "print('\\n')\n",
    "print(\"The actual number of wins: {}\".format(act_wins))"
   ]
  },
  {
   "cell_type": "markdown",
   "metadata": {},
   "source": [
    "## 1-Off's Hottest Month\n",
    "\n",
    "We can see that the number of actual wins **do not** outweigh the number of expected wins.  On the other hand, we can at least dive into the number of actual wins to see which month was the most successful for the player.  In this section, we'll determine the most winning month by:\n",
    "\n",
    "- Separating the number of wins by month\n",
    "- Organizing them into a dictionary"
   ]
  },
  {
   "cell_type": "code",
   "execution_count": 11,
   "metadata": {},
   "outputs": [
    {
     "name": "stdout",
     "output_type": "stream",
     "text": [
      "{'05': 21, '03': 19, '02': 20, '01': 24, '12': 17, '11': 20, '09': 21, '08': 11, '07': 21, '06': 19, '04': 16, '10': 20}\n"
     ]
    }
   ],
   "source": [
    "import datetime as dt\n",
    "\n",
    "one_off_wins = pick_3[pick_3['one_off']=='W']\n",
    "months = {}\n",
    "for row in one_off_wins['date']:\n",
    "    month = row.strftime(\"%m\")\n",
    "    \n",
    "    if month in months:\n",
    "        months[month] += 1\n",
    "        \n",
    "    else:\n",
    "        months[month] = 1\n",
    "\n",
    "print(months)"
   ]
  },
  {
   "cell_type": "markdown",
   "metadata": {},
   "source": [
    "By observation, January came in as the hottest month with 24 wins for the 1-Off game over the 12 years."
   ]
  },
  {
   "cell_type": "markdown",
   "metadata": {},
   "source": [
    "## Finding Average Monthly Gain or Loss for 1-Off Game\n",
    "\n",
    "The following is a chart for Prize Payout breakdown of the 1-Off game:\n",
    "\n",
    "Type of Play (in dollars) | Match | Prize Payout (in dollars)\n",
    "-------- |-------- |-------- \n",
    "0.50/1.00 | 1 digit | 20.00/40.00 \n",
    "0.50/1.00 |2 digit | 5.00/10.00\n",
    "0.50/1.00 |3 digit | 9.00/18.00\n",
    "\n",
    "We will calculate the average monthly gain or loss per day based on the number of actual wins for the most common winning type of play (1-digit, 2-digit, or 3-digit).  Due to the late introduction of two daily drawings, the average will be better reflected by the total number of months for the 12-year span."
   ]
  },
  {
   "cell_type": "code",
   "execution_count": 12,
   "metadata": {},
   "outputs": [
    {
     "name": "stdout",
     "output_type": "stream",
     "text": [
      "The number of 1-digit wins in the 1-Off game is: 52\n",
      "The number of 2-digit wins in the 1-Off game is: 100\n",
      "The number of 3-digit wins in the 1-Off game is: 77\n"
     ]
    }
   ],
   "source": [
    "# Use for loop to separate winnings by number of digits off\n",
    "digit_wins = []\n",
    "for index, row in pick_3[['num_drawn','quick_picks','one_off']].iterrows():\n",
    "    one_dig = [[0,0,1], [0,0,9]]\n",
    "    two_dig = [[0,1,1], [0,1,9], [0,9,9]]\n",
    "    three_dig = [[1,1,1], [1,1,9], [1,9,9], [9,9,9]]\n",
    "    win, pick, result = f(row['num_drawn']), f(row['quick_picks']), row['one_off']\n",
    "    dig_diff = sorted([abs(win[0]-pick[0]), abs(win[1]-pick[1]), abs(win[2]-pick[2])])\n",
    "    \n",
    "    if result == 'W':\n",
    "        if dig_diff in one_dig:\n",
    "            digit_wins.append(\"1-digit\")\n",
    "            \n",
    "        elif dig_diff in two_dig:\n",
    "            digit_wins.append(\"2-digit\")\n",
    "        \n",
    "        elif dig_diff in three_dig:\n",
    "            digit_wins.append(\"3-digit\")\n",
    "    \n",
    "print(\"The number of 1-digit wins in the 1-Off game is: {}\".format(digit_wins.count(\"1-digit\")))\n",
    "print(\"The number of 2-digit wins in the 1-Off game is: {}\".format(digit_wins.count(\"2-digit\")))\n",
    "print(\"The number of 3-digit wins in the 1-Off game is: {}\".format(digit_wins.count(\"3-digit\")))"
   ]
  },
  {
   "cell_type": "markdown",
   "metadata": {},
   "source": [
    "The 2-digit wins are substantially more than the other two categories at 100, and the win margin is as great as 48.  Therefore, we will use the prize payout for 2-digit wins to calculate the average gain or loss for each month.  Assume the player participates in both drawings since there are only two years where only one daily drawing took place. "
   ]
  },
  {
   "cell_type": "code",
   "execution_count": 13,
   "metadata": {},
   "outputs": [
    {
     "name": "stdout",
     "output_type": "stream",
     "text": [
      "($26.73)\n",
      "($53.46)\n"
     ]
    }
   ],
   "source": [
    "# Use locale module to represent currency\n",
    "import locale\n",
    "locale.setlocale(locale.LC_ALL, '')\n",
    "\n",
    "total_months = (12*13) # Multiply number of months in a year by the number of years\n",
    "\n",
    "# Calculate money spent by player per month (30 days) using $0.50 plays\n",
    "fifty_cent = 0.50 * 30 * 2\n",
    "\n",
    "fifty_net_gain_or_loss = round(((102*5)/(total_months)) - fifty_cent, 2)\n",
    "\n",
    "# The net gain or loss for $1.00 plays are just double\n",
    "dollar_net_gain_or_loss = 2 * (fifty_net_gain_or_loss)\n",
    "\n",
    "print(locale.currency(fifty_net_gain_or_loss))\n",
    "print(locale.currency(dollar_net_gain_or_loss))"
   ]
  },
  {
   "cell_type": "markdown",
   "metadata": {},
   "source": [
    "Both types of plays result in substantial average monthly losses for the last 12 years, which doesn't look good for a player's chances in winning the 1-Off game consistently."
   ]
  },
  {
   "cell_type": "markdown",
   "metadata": {},
   "source": [
    "## Sum-It-Up\n",
    "\n",
    "The Sum-It-Up game offers an additional option to win based on matching the sum of the digits drawn in the Pick 3.  Once again, let's say that 123 is drawn.  Since the sum of the digits is 6, a player must have a number whose sum is 6 such as 204.  Now, we'll use the same Quick Picks and compare their sums to the Pick 3 drawings.  There are a few steps to detecting a winner for Sum-It-Up:\n",
    "\n",
    "- Build a function that compares the sums of drawings to player's Quick Picks\n",
    "- Create a column of wins and losses for further analysis"
   ]
  },
  {
   "cell_type": "code",
   "execution_count": 14,
   "metadata": {
    "scrolled": true
   },
   "outputs": [
    {
     "name": "stdout",
     "output_type": "stream",
     "text": [
      "         date day_eve num_drawn quick_picks one_off sum_it_up\n",
      "12 2019-06-02       E       251         035       L         W\n",
      "15 2019-05-31       D       245         731       L         W\n",
      "28 2019-05-25       E       665         980       L         W\n",
      "36 2019-05-21       E       009         117       L         W\n",
      "38 2019-05-20       E       503         332       L         W\n",
      "\n",
      "\n",
      "        date day_eve num_drawn quick_picks one_off sum_it_up\n",
      "3 2019-06-06       D       499         620       L         L\n",
      "4 2019-06-06       E       433         138       L         L\n",
      "5 2019-06-05       D       602         818       L         L\n",
      "6 2019-06-05       E       226         374       L         L\n",
      "7 2019-06-04       D       745         146       L         L\n"
     ]
    }
   ],
   "source": [
    "sum_it_up = []\n",
    "for index, row in pick_3[[\"num_drawn\",\"quick_picks\"]].iterrows():\n",
    "    win_sum, qp_sum = sum(f(row['num_drawn'])), sum(f(row['quick_picks']))\n",
    "    \n",
    "    if win_sum == qp_sum:\n",
    "        sum_it_up.append('W')\n",
    "        \n",
    "    else:\n",
    "        sum_it_up.append('L')\n",
    "\n",
    "pick_3 = pick_3.assign(sum_it_up = sum_it_up)\n",
    "\n",
    "# Verify winners and losers\n",
    "print(pick_3[pick_3['sum_it_up']=='W'].head())\n",
    "print('\\n')\n",
    "print(pick_3[pick_3['sum_it_up']=='L'].head())"
   ]
  },
  {
   "cell_type": "markdown",
   "metadata": {},
   "source": [
    "## Expected Number of Wins For Sum-It-Up Game\n",
    "\n",
    "Similar to the 1-Off game, we need to compare the number of **expected** wins to the number of **actual** wins.  The odds of winning the Sum-It-Up game is 1 in 28. The formulas for expected and actual wins are:\n",
    "\n",
    "- expected wins = (1/28) * (number of games played)\n",
    "- actual wins = number of wins detected"
   ]
  },
  {
   "cell_type": "code",
   "execution_count": 15,
   "metadata": {},
   "outputs": [
    {
     "name": "stdout",
     "output_type": "stream",
     "text": [
      "The expected number of wins: 298\n",
      "The actual number of wins: 477\n"
     ]
    }
   ],
   "source": [
    "sum_exp = (1/28) * len(pick_3)\n",
    "sum_act = len(pick_3[pick_3['sum_it_up']=='W'])\n",
    "\n",
    "print(\"The expected number of wins: {}\".format(int(sum_exp)))       \n",
    "print(\"The actual number of wins: {}\".format(sum_act))"
   ]
  },
  {
   "cell_type": "markdown",
   "metadata": {},
   "source": [
    "## Sum-It-Up's Hottest Month\n",
    "\n",
    "The actual number of wins **greatly** outweigh the expected number of wins in this case.  We'll also determine the months with the most wins:\n",
    "\n",
    "- Separating the number of wins by month\n",
    "- Organizing them into a dictionary"
   ]
  },
  {
   "cell_type": "code",
   "execution_count": 16,
   "metadata": {},
   "outputs": [
    {
     "name": "stdout",
     "output_type": "stream",
     "text": [
      "{'06': 32, '05': 56, '04': 36, '03': 46, '02': 50, '01': 43, '12': 34, '11': 32, '10': 37, '09': 31, '08': 44, '07': 36}\n"
     ]
    }
   ],
   "source": [
    "sum_wins = pick_3[pick_3['sum_it_up']=='W']\n",
    "sum_months = {}\n",
    "for row in sum_wins['date']:\n",
    "    month = row.strftime(\"%m\")\n",
    "    \n",
    "    if month in sum_months:\n",
    "        sum_months[month] += 1\n",
    "        \n",
    "    else:\n",
    "        sum_months[month] = 1\n",
    "\n",
    "print(sum_months)"
   ]
  },
  {
   "cell_type": "markdown",
   "metadata": {},
   "source": [
    "May tops all other months with 56 Sum-It-Up wins."
   ]
  },
  {
   "cell_type": "markdown",
   "metadata": {},
   "source": [
    "## Finding Average Monthly Gain or Loss for Sum-It-Up Game\n",
    "\n",
    "We will calculate the average monthly gain or loss here for Sum-It-Up, much like our computations for the 1-Off game.  There are 11 payouts for the possible winning sums.  This can be rectified by doing the following:\n",
    "\n",
    "- Create a for loop that populates a list of the winning picks for Sum-It-Up\n",
    "- Calculate and display the mode of the list"
   ]
  },
  {
   "cell_type": "code",
   "execution_count": 17,
   "metadata": {},
   "outputs": [
    {
     "name": "stdout",
     "output_type": "stream",
     "text": [
      "The most common winning sum for the player is 11 and accounts for 55 out of 477 wins.\n"
     ]
    }
   ],
   "source": [
    "#Import statistics module to use mode\n",
    "import statistics as st\n",
    "\n",
    "win_sums = []\n",
    "for index, row in sum_wins.iterrows():\n",
    "    \n",
    "    pick_3_sum = sum(f(row['quick_picks']))\n",
    "    win_sums.append(pick_3_sum)\n",
    "    \n",
    "most_com_sum = st.mode(win_sums)\n",
    "com_sum_count = win_sums.count(most_com_sum)\n",
    "\n",
    "message = \"The most common winning sum for the player is {0} and accounts for {1} out of {2} wins.\"\n",
    "print(message.format(most_com_sum, com_sum_count, sum_act))"
   ]
  },
  {
   "cell_type": "code",
   "execution_count": 18,
   "metadata": {},
   "outputs": [
    {
     "name": "stdout",
     "output_type": "stream",
     "text": [
      "($21.27)\n",
      "($42.54)\n"
     ]
    }
   ],
   "source": [
    "# Prize payout for $0.50 play on Sum 14 is $3.00\n",
    "\n",
    "fifty_sum_net = round(((454*3)/(total_months)) - fifty_cent, 2)\n",
    "\n",
    "# The net gain or loss for $1.00 plays are just double\n",
    "dollar_sum_nut = 2 * (fifty_sum_net)\n",
    "\n",
    "print(locale.currency(fifty_sum_net))\n",
    "print(locale.currency(dollar_sum_nut))"
   ]
  },
  {
   "cell_type": "markdown",
   "metadata": {},
   "source": [
    "## 1-Off or Sum-It-Up: Which is Better?\n",
    "\n",
    "Based on the number of wins relative to total drawings, Sum-It-Up provides a player better odds of winning than 1-Off.  Furthermore, the player saves *more* money monthly on average playing the Sum-It-Up games even though the odds of winning is *less* than the 1-Off game."
   ]
  },
  {
   "cell_type": "markdown",
   "metadata": {},
   "source": [
    "## Top 10 Exact Picks and Sums\n",
    "\n",
    "With both types of games ending with average losses per month for a player based on Quick Picks, it may be beneficial to take note of the most common Pick 3 numbers and sums.  If we select the top 10 picks and view number of occurrences for all sums from over 8,300 drawings, we will get a more clear direction on likely winning numbers for the 1-Off and Sum-It-Up games. This will be demonstrated by the following procedure:\n",
    "\n",
    "1. Aggregate the Pick 3 numbers and Sum-It-Up columns to extract top 10 picks and all sums\n",
    "2. Display the results as horizontal bar graphs"
   ]
  },
  {
   "cell_type": "code",
   "execution_count": 65,
   "metadata": {},
   "outputs": [
    {
     "data": {
      "image/png": "[encoded data removed]",
      "text/plain": [
       "<Figure size 864x432 with 1 Axes>"
      ]
     },
     "metadata": {},
     "output_type": "display_data"
    }
   ],
   "source": [
    "import matplotlib.pyplot as plt\n",
    "import seaborn as sns\n",
    "%matplotlib inline\n",
    "\n",
    "top_ten = pick_3['num_drawn'].value_counts().head(10)\n",
    "sns.set_style('white')\n",
    "plt.figure(figsize=(12,6))\n",
    "sns.barplot(x=top_ten.index, y=top_ten.values)\n",
    "plt.xlabel('Number (Exact Order)', fontsize=18)\n",
    "plt.ylabel('Occurrences', fontsize=14)\n",
    "plt.ylim((0,20))\n",
    "plt.title('Top Ten Picks (Jun. 2007 - Jun. 2019)',fontsize=14)\n",
    "plt.show()"
   ]
  },
  {
   "cell_type": "markdown",
   "metadata": {},
   "source": [
    "Most of the top ten Pick 3 numbers drawing over the 12 years have about the same number of occurrences, with the exception of **114**, **273**, and **695** in ascending order.  "
   ]
  },
  {
   "cell_type": "code",
   "execution_count": 64,
   "metadata": {
    "scrolled": true
   },
   "outputs": [
    {
     "data": {
      "image/png": "[encoded data removed]",
      "text/plain": [
       "<Figure size 864x432 with 1 Axes>"
      ]
     },
     "metadata": {},
     "output_type": "display_data"
    }
   ],
   "source": [
    "sums = {}\n",
    "for index,row in pick_3.iterrows():\n",
    "    pick_sum = sum(f(row['num_drawn']))\n",
    "    if pick_sum in sums:\n",
    "        sums[pick_sum] += 1\n",
    "    else:\n",
    "        sums[pick_sum] = 1\n",
    "\n",
    "descend_sums = sorted(sums.items(), key = lambda x:(x[1],x[0]), reverse=True)# Sort dictionary by descending value\n",
    "x_sum = []\n",
    "y_sum = []\n",
    "for n in descend_sums:\n",
    "    x_sum.append(n[0])\n",
    "    y_sum.append(n[1])\n",
    "    \n",
    "plt.figure(figsize=(12,6))\n",
    "sns.barplot(x=x_sum, y=y_sum)\n",
    "plt.xlabel('Sum', fontsize=14)\n",
    "plt.ylabel('Occurrences', fontsize=14)\n",
    "plt.title('Pick 3 Sums (Jun. 2007 - Jun. 2019)',fontsize=18)\n",
    "plt.show()"
   ]
  },
  {
   "cell_type": "markdown",
   "metadata": {},
   "source": [
    "## Conclusion\n",
    "\n",
    "If a player wants to increase the chances of winning for the Pick 3 1-Off game, variations of 695, 273, and 114 should be considered when playing.  For example, I could choose several 1-Off orientations of 695 by playing 704 (2-digits) or 795 (1-digit).  Additionally, any 3 digits whose sum is 13 could be a hit winner for those interested in the Sum-It-Up games such as 940.  With 28 sums to choose from, the bar graph resembles a histogram and shows that sums between 8 and 19 dominate in occurrences, with 12, 13 and 14 in the top 3.  \n",
    "\n",
    "Although the expected number of wins for 1-Off is more than that of Sum-It-Up, there are about twice as many opportunities to win with popular Sum-It-Up sums.  Thus, Sum-It-Up proves to be the game a player is more likely to win on a consistent basis."
   ]
  }
 ],
 "metadata": {
  "kernelspec": {
   "display_name": "Python 3",
   "language": "python",
   "name": "python3"
  },
  "language_info": {
   "codemirror_mode": {
    "name": "ipython",
    "version": 3
   },
   "file_extension": ".py",
   "mimetype": "text/x-python",
   "name": "python",
   "nbconvert_exporter": "python",
   "pygments_lexer": "ipython3",
   "version": "3.7.1"
  }
 },
 "nbformat": 4,
 "nbformat_minor": 2
}
